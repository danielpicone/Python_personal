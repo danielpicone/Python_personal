{
 "cells": [
  {
   "cell_type": "code",
   "execution_count": 679,
   "metadata": {},
   "outputs": [],
   "source": [
    "from __future__ import division\n",
    "from pyomo.environ import *\n",
    "from pyomo.core.base.expr import identify_variables\n",
    "import numpy as np\n",
    "\n",
    "model = ConcreteModel()\n",
    "\n",
    "\n",
    "model.n = range(6)\n",
    "\n",
    "model.x = Var(model.n, within=Binary)\n",
    "\n",
    "# model.c = np.array([1,2,2,1])\n",
    "model.c = np.array([1,2,-1,3,-2,1])\n",
    "# model.a = np.matrix([[-1,-1,0,0],[0,0,-1,-1]])\n",
    "model.a = np.matrix([[-1,-4,1,0,0,0],[0,0,0,-3,-2,-1]])\n",
    "# model.b = np.array([-1,-2])\n",
    "model.b = np.array([-1,-2])\n",
    "# model.eqmat = np.matrix([1,1,1,1])\n",
    "model.eqmat = np.matrix([2,-5,1,-2,1,1])\n",
    "# model.eqb = np.array([3])\n",
    "model.eqb = np.array([0])\n",
    "model.set = range(len(model.b))\n",
    "consets = [[0],[1]]\n",
    "# varsets = [[0,1],[2,3]]\n",
    "varsets = [[0,1,2],[3,4,5]]\n",
    "num_of_sets = len(consets)"
   ]
  },
  {
   "cell_type": "code",
   "execution_count": 680,
   "metadata": {},
   "outputs": [],
   "source": [
    "def projectBinary(x):\n",
    "    for row in range(len(x)):\n",
    "        if x[row] <= 0.5:\n",
    "            x[row] = 0\n",
    "        else:\n",
    "            x[row] = 1\n",
    "    return x\n",
    "\n",
    "def projectHyperplane(x,A,b):\n",
    "    for row in range(A.shape[0]):\n",
    "        if np.dot(A[row,:],x) - b[row] > 0:\n",
    "            x = x - ((( (np.dot(np.array(A[row,:]),x))[0] - b[row] )/ ((np.array(np.square(A).sum(axis=1))[row])[0]) ) * np.array(A[row,:].flatten())[0])\n",
    "    return x\n",
    "\n",
    "def find_points(A,b):\n",
    "    \"\"\"Finds feasible points for a set of linear constraints\"\"\"\n",
    "    points = []\n",
    "    for i in range(1000):\n",
    "        counter = 0\n",
    "        x = np.random.rand(A.shape[1])\n",
    "        x_old = x+1\n",
    "        while (np.linalg.norm(x-x_old) > 0.01):\n",
    "            if counter > 10:\n",
    "                break\n",
    "            x_old = x\n",
    "            x = projectBinary(x)\n",
    "            x = projectHyperplane(x,A,b)\n",
    "            counter += 1\n",
    "        if counter < 10:\n",
    "            points.append(x)\n",
    "        \n",
    "    return np.unique(np.array(points),axis=0)\n"
   ]
  },
  {
   "cell_type": "code",
   "execution_count": 681,
   "metadata": {},
   "outputs": [],
   "source": [
    "def create_sets(consets,varsets,Aineq,bineq):\n",
    "    num_of_sets = len(consets)\n",
    "    sets = {}\n",
    "    lambda_sets = {}\n",
    "    counter = 0\n",
    "    for k in range(num_of_sets):\n",
    "        set_k = {}\n",
    "        set_k['constraint_rows'] = consets[k]\n",
    "        set_k['indicies'] = varsets[k]\n",
    "        set_k['points'] = find_points(Aineq[set_k['constraint_rows'],set_k['indicies']],bineq[set_k['constraint_rows']])\n",
    "#         set_k['points'] = points1[k]\n",
    "        set_k['num_points'] = len(set_k['points'])\n",
    "        for count in range(set_k['num_points']):\n",
    "            lambda_sets[counter] = (k,count)\n",
    "            counter += 1\n",
    "        sets[k] = set_k\n",
    "    sets['num_sets'] = num_of_sets\n",
    "    return sets,lambda_sets\n",
    "\n",
    "points1 = [np.array([[1,1],[0,1]]),np.array([[1,1]])]\n",
    "\n",
    "sets,lambda_sets = create_sets(consets,varsets,model.a,model.b)"
   ]
  },
  {
   "cell_type": "code",
   "execution_count": 626,
   "metadata": {},
   "outputs": [
    {
     "data": {
      "text/plain": [
       "array([[1., 0., 0., 1., 0., 0.],\n",
       "       [1., 1., 1., 0., 1., 1.]])"
      ]
     },
     "execution_count": 626,
     "metadata": {},
     "output_type": "execute_result"
    }
   ],
   "source": [
    "find_points(np.matrix([[2,-5,1,-2,1,1],[-2,5,-1,2,-1,-1],[-1,-4,1,0,0,0],[0,0,0,-3,-2,-1]]),np.array([0,0,-1,-2]))"
   ]
  },
  {
   "cell_type": "code",
   "execution_count": null,
   "metadata": {},
   "outputs": [],
   "source": [
    "points = [np.array([[0,1,0],[0,1,1],[1,0,0]]),np.array([[0,1,0],[0,1,1]])]"
   ]
  },
  {
   "cell_type": "code",
   "execution_count": 14,
   "metadata": {},
   "outputs": [
    {
     "data": {
      "text/plain": [
       "numpy.ndarray"
      ]
     },
     "execution_count": 14,
     "metadata": {},
     "output_type": "execute_result"
    }
   ],
   "source": [
    "type(sets[0]['points'])"
   ]
  },
  {
   "cell_type": "code",
   "execution_count": 682,
   "metadata": {},
   "outputs": [
    {
     "name": "stdout",
     "output_type": "stream",
     "text": [
      "(array([[-5., -4.,  2., -3., -2.,  1.,  2., -2., -1., -1.,  0.],\n",
      "       [ 1.,  1.,  1.,  1.,  1.,  0.,  0.,  0.,  0.,  0.,  0.],\n",
      "       [ 0.,  0.,  0.,  0.,  0.,  1.,  1.,  1.,  1.,  1.,  1.]]), array([0., 1., 1.]))\n"
     ]
    }
   ],
   "source": [
    "def create_A_and_rhs(eqmat,eqb,sets):\n",
    "    num_sets = sets['num_sets']\n",
    "    num_eq = len(eqb)\n",
    "    big_matrix = np.zeros((num_eq+num_sets,1))\n",
    "    for k in range(num_sets):\n",
    "        matrix_of_set_k = np.zeros((num_eq+num_sets,sets[k]['num_points']))\n",
    "        # Now populate the matrix\n",
    "        matrix_of_set_k[num_eq+k,:] = 1\n",
    "        for j in range(num_eq):\n",
    "            for column,point in enumerate(sets[k]['points']):\n",
    "                matrix_of_set_k[j,column] = np.dot(eqmat[j,sets[k]['indicies']],point)[0,0]\n",
    "        big_matrix = np.concatenate((big_matrix,matrix_of_set_k),axis=1)\n",
    "    big_matrix = np.delete(big_matrix,0,axis=1)\n",
    "\n",
    "    rhs = np.concatenate((model.eqb,np.ones(num_sets)))\n",
    "    return big_matrix,rhs\n",
    "\n",
    "\n",
    "A,rhs = create_A_and_rhs(model.eqmat,model.eqb,sets)\n",
    "print(A,rhs)"
   ]
  },
  {
   "cell_type": "code",
   "execution_count": 683,
   "metadata": {},
   "outputs": [
    {
     "data": {
      "text/plain": [
       "array([[0., 1., 0.],\n",
       "       [0., 1., 1.],\n",
       "       [1., 0., 0.],\n",
       "       [1., 1., 0.],\n",
       "       [1., 1., 1.]])"
      ]
     },
     "execution_count": 683,
     "metadata": {},
     "output_type": "execute_result"
    }
   ],
   "source": [
    "sets[0]['points']"
   ]
  },
  {
   "cell_type": "code",
   "execution_count": 684,
   "metadata": {},
   "outputs": [
    {
     "name": "stdout",
     "output_type": "stream",
     "text": [
      "[ 2.  1.  1.  3.  2. -2. -1.  3.  4.  1.  2.]\n"
     ]
    }
   ],
   "source": [
    "def get_obj_values(c,sets):\n",
    "    num_sets = sets['num_sets']\n",
    "    obj_array = np.zeros(1)\n",
    "    for k in range(num_sets):\n",
    "        for point in sets[k]['points']:\n",
    "            obj = np.dot(c[sets[k]['indicies']],point)\n",
    "            obj_array = np.append(obj_array,obj)\n",
    "    obj_array = np.delete(obj_array,0)\n",
    "    return obj_array\n",
    "\n",
    "print(get_obj_values(model.c,sets))"
   ]
  },
  {
   "cell_type": "code",
   "execution_count": 685,
   "metadata": {},
   "outputs": [],
   "source": [
    "def get_new_column_values(k,sets,point,eqmat,eqb,c):\n",
    "    num_sets = sets['num_sets']\n",
    "    num_eq = len(eqb)\n",
    "    obj = np.dot(c[sets[k]['indicies']],point)\n",
    "    Acol = np.zeros((num_eq+num_sets,1))\n",
    "    Acol[k+num_eq,0] = 1\n",
    "    for i in range(num_eq):\n",
    "        Acol[i,0] = np.dot(eqmat[i,sets[k]['indicies']],point)[0,0]\n",
    "    return obj,Acol"
   ]
  },
  {
   "cell_type": "code",
   "execution_count": 686,
   "metadata": {
    "scrolled": true
   },
   "outputs": [
    {
     "name": "stdout",
     "output_type": "stream",
     "text": [
      "[0, 1, 2, 3, 4, 5, 6, 7, 8, 9, 10]\n",
      "CPLEX 12.8.0.0: presolve=0\n",
      "lpdisplay=2\n",
      "Initializing dual steep norms . . .\n",
      "Duals\n",
      "('      ', 1, 0.0)\n",
      "('      ', 2, 1.0)\n",
      "('      ', 3, -2.0)\n",
      "\n",
      "Welcome to IBM(R) ILOG(R) CPLEX(R) Interactive Optimizer 12.8.0.0\n",
      "  with Simplex, Mixed Integer & Barrier Optimizers\n",
      "5725-A06 5725-A29 5724-Y48 5724-Y49 5724-Y54 5724-Y55 5655-Y21\n",
      "Copyright IBM Corp. 1988, 2017.  All Rights Reserved.\n",
      "\n",
      "Type 'help' for a list of available commands.\n",
      "Type 'help' followed by a command name for more\n",
      "information on commands.\n",
      "\n",
      "CPLEX> Logfile 'cplex.log' closed.\n",
      "Logfile 'c:\\users\\daniel~1\\appdata\\local\\temp\\tmpa16rcx.cplex.log' open.\n",
      "CPLEX> Problem 'c:\\users\\daniel~1\\appdata\\local\\temp\\tmpgse_ag.pyomo.lp' read.\n",
      "Read time = 0.00 sec. (0.00 ticks)\n",
      "CPLEX> Problem name         : c:\\users\\daniel~1\\appdata\\local\\temp\\tmpgse_ag.pyomo.lp\n",
      "Objective sense      : Minimize\n",
      "Variables            :       4  [Nneg: 1,  Binary: 3]\n",
      "Objective nonzeros   :       4\n",
      "Linear constraints   :       2  [Less: 1,  Equal: 1]\n",
      "  Nonzeros           :       4\n",
      "  RHS nonzeros       :       2\n",
      "\n",
      "Variables            : Min LB: 0.0000000        Max UB: 1.000000       \n",
      "Objective nonzeros   : Min   : 1.000000         Max   : 2.000000       \n",
      "Linear constraints   :\n",
      "  Nonzeros           : Min   : 1.000000         Max   : 4.000000       \n",
      "  RHS nonzeros       : Min   : 1.000000         Max   : 1.000000       \n",
      "CPLEX> Found incumbent of value 0.000000 after 0.00 sec. (0.00 ticks)\n",
      "Tried aggregator 1 time.\n",
      "MIP Presolve eliminated 2 rows and 1 columns.\n",
      "MIP Presolve added 3 rows and 1 columns.\n",
      "MIP Presolve modified 1 coefficients.\n",
      "Reduced MIP has 3 rows, 4 columns, and 8 nonzeros.\n",
      "Reduced MIP has 3 binaries, 1 generals, 0 SOSs, and 0 indicators.\n",
      "Presolve time = 0.00 sec. (0.01 ticks)\n",
      "Probing fixed 0 vars, tightened 1 bounds.\n",
      "Probing time = 0.00 sec. (0.00 ticks)\n",
      "Tried aggregator 1 time.\n",
      "Reduced MIP has 3 rows, 4 columns, and 8 nonzeros.\n",
      "Reduced MIP has 3 binaries, 1 generals, 0 SOSs, and 0 indicators.\n",
      "Presolve time = 0.00 sec. (0.01 ticks)\n",
      "Probing time = 0.00 sec. (0.00 ticks)\n",
      "Clique table members: 2.\n",
      "MIP emphasis: balance optimality and feasibility.\n",
      "MIP search method: dynamic search.\n",
      "Parallel mode: deterministic, using up to 4 threads.\n",
      "Root relaxation solution time = 0.00 sec. (0.00 ticks)\n",
      "\n",
      "        Nodes                                         Cuts/\n",
      "   Node  Left     Objective  IInf  Best Integer    Best Bound    ItCnt     Gap\n",
      "\n",
      "*     0+    0                            0.0000       -2.0000              --- \n",
      "      0     0        cutoff              0.0000        0.0000        1    0.00%\n",
      "      0     0        cutoff              0.0000        0.0000        1    0.00%\n",
      "Elapsed time = 0.02 sec. (0.04 ticks, tree = 0.01 MB, solutions = 1)\n",
      "\n",
      "Root node processing (before b&c):\n",
      "  Real time             =    0.02 sec. (0.04 ticks)\n",
      "Parallel b&c, 4 threads:\n",
      "  Real time             =    0.00 sec. (0.00 ticks)\n",
      "  Sync time (average)   =    0.00 sec.\n",
      "  Wait time (average)   =    0.00 sec.\n",
      "                          ------------\n",
      "Total (root+branch&cut) =    0.02 sec. (0.04 ticks)\n",
      "\n",
      "Solution pool: 1 solution saved.\n",
      "\n",
      "MIP - Integer optimal solution:  Objective =  0.0000000000e+00\n",
      "Solution time =    0.02 sec.  Iterations = 1  Nodes = 0\n",
      "Deterministic time = 0.04 ticks  (2.59 ticks/sec)\n",
      "\n",
      "CPLEX> Incumbent solution written to file 'c:\\users\\daniel~1\\appdata\\local\\temp\\tmph7odvf.cplex.sol'.\n",
      "CPLEX> \n",
      "Welcome to IBM(R) ILOG(R) CPLEX(R) Interactive Optimizer 12.8.0.0\n",
      "  with Simplex, Mixed Integer & Barrier Optimizers\n",
      "5725-A06 5725-A29 5724-Y48 5724-Y49 5724-Y54 5724-Y55 5655-Y21\n",
      "Copyright IBM Corp. 1988, 2017.  All Rights Reserved.\n",
      "\n",
      "Type 'help' for a list of available commands.\n",
      "Type 'help' followed by a command name for more\n",
      "information on commands.\n",
      "\n",
      "CPLEX> Logfile 'cplex.log' closed.\n",
      "Logfile 'c:\\users\\daniel~1\\appdata\\local\\temp\\tmp3ie3ll.cplex.log' open.\n",
      "CPLEX> Problem 'c:\\users\\daniel~1\\appdata\\local\\temp\\tmp3_bgmv.pyomo.lp' read.\n",
      "Read time = 0.00 sec. (0.00 ticks)\n",
      "CPLEX> Problem name         : c:\\users\\daniel~1\\appdata\\local\\temp\\tmp3_bgmv.pyomo.lp\n",
      "Objective sense      : Minimize\n",
      "Variables            :       4  [Nneg: 1,  Binary: 3]\n",
      "Objective nonzeros   :       4\n",
      "Linear constraints   :       2  [Less: 1,  Equal: 1]\n",
      "  Nonzeros           :       4\n",
      "  RHS nonzeros       :       2\n",
      "\n",
      "Variables            : Min LB: 0.0000000        Max UB: 1.000000       \n",
      "Objective nonzeros   : Min   : 1.000000         Max   : 3.000000       \n",
      "Linear constraints   :\n",
      "  Nonzeros           : Min   : 1.000000         Max   : 3.000000       \n",
      "  RHS nonzeros       : Min   : 1.000000         Max   : 2.000000       \n",
      "CPLEX> Found incumbent of value 5.000000 after 0.00 sec. (0.00 ticks)\n",
      "Tried aggregator 1 time.\n",
      "MIP Presolve eliminated 2 rows and 4 columns.\n",
      "All rows and columns eliminated.\n",
      "Presolve time = 0.00 sec. (0.00 ticks)\n",
      "\n",
      "Root node processing (before b&c):\n",
      "  Real time             =    0.00 sec. (0.00 ticks)\n",
      "Parallel b&c, 4 threads:\n",
      "  Real time             =    0.00 sec. (0.00 ticks)\n",
      "  Sync time (average)   =    0.00 sec.\n",
      "  Wait time (average)   =    0.00 sec.\n",
      "                          ------------\n",
      "Total (root+branch&cut) =    0.00 sec. (0.00 ticks)\n",
      "\n",
      "Solution pool: 2 solutions saved.\n",
      "\n",
      "MIP - Integer optimal solution:  Objective =  0.0000000000e+00\n",
      "Solution time =    0.00 sec.  Iterations = 0  Nodes = 0\n",
      "Deterministic time = 0.00 ticks  (4.88 ticks/sec)\n",
      "\n",
      "CPLEX> Incumbent solution written to file 'c:\\users\\daniel~1\\appdata\\local\\temp\\tmp17d8lm.cplex.sol'.\n",
      "CPLEX> [[-5. -4.  2. -3. -2.  1.  2. -2. -1. -1.  0.]\n",
      " [ 1.  1.  1.  1.  1.  0.  0.  0.  0.  0.  0.]\n",
      " [ 0.  0.  0.  0.  0.  1.  1.  1.  1.  1.  1.]]\n",
      "('Variable component object', <pyomo.core.base.var.IndexedVar object at 0x000000000AAAF0F0>)\n",
      "('   ', 0, 0.0)\n",
      "('   ', 1, 0.5)\n",
      "('   ', 2, 0.5)\n",
      "('   ', 3, 0.0)\n",
      "('   ', 4, 0.0)\n",
      "('   ', 5, 1.0)\n",
      "('   ', 6, 0.0)\n",
      "('   ', 7, 0.0)\n",
      "('   ', 8, 0.0)\n",
      "('   ', 9, 0.0)\n",
      "('   ', 10, 0.0)\n"
     ]
    }
   ],
   "source": [
    "rmlp = ConcreteModel()\n",
    "num_lambda = range(A.shape[1])\n",
    "rmlp.n = num_lambda\n",
    "print(rmlp.n)\n",
    "rmlp.lambda_var = Var(rmlp.n,within=NonNegativeReals)\n",
    "rmlp.con = ConstraintList()\n",
    "A,rhs = create_A_and_rhs(model.eqmat,model.eqb,sets)\n",
    "obj = get_obj_values(model.c,sets)\n",
    "for i in range(A.shape[0]):\n",
    "    rmlp.con.add(expr = sum( A[i,j]*rmlp.lambda_var[j] for j in rmlp.n ) == rhs[i])\n",
    "\n",
    "rmlp.OBJ = Objective(expr = \n",
    "                    sum( obj[j]*rmlp.lambda_var[j] for j in rmlp.n ))\n",
    "\n",
    "rmlp.dual = Suffix(direction=Suffix.IMPORT)\n",
    "solver = SolverFactory('cplex',solver_io='nl')\n",
    "solver.options['presolve'] = 0\n",
    "solver.options['lpdisplay'] = 2\n",
    "results = solver.solve(rmlp, tee = True)\n",
    "rmlp.solutions.load_from(results)\n",
    "\n",
    "convergenceflag = 0\n",
    "while convergenceflag == 0:\n",
    "    convergenceflag = 1\n",
    "    print (\"Duals\")\n",
    "    from pyomo.core import Constraint\n",
    "    pi = np.zeros(len(model.eqb))\n",
    "    mu = np.zeros(len(varsets))\n",
    "    for c in rmlp.component_objects(Constraint, active=True):\n",
    "        cobject = getattr(rmlp, str(c))\n",
    "        for index in cobject:\n",
    "            if index <= len(model.eqb):\n",
    "                pi[index-1] = rmlp.dual[cobject[index]]\n",
    "            else:\n",
    "                mu[index-1-len(pi)] = rmlp.dual[cobject[index]]\n",
    "            print (\"      \", index, rmlp.dual[cobject[index]])\n",
    "            \n",
    "    # Now create the subproblem and use the dual values to solve\n",
    "    num_sets = sets['num_sets']\n",
    "    for k in range(num_sets):\n",
    "        num_points = sets[k]['num_points']\n",
    "        subprob = ConcreteModel()\n",
    "        subprob.x = Var(range(len(sets[k]['indicies'])),within=Binary)\n",
    "        subprob.con = ConstraintList()\n",
    "        for set_num,i in enumerate(sets[k]['constraint_rows']):\n",
    "            subprob.con.add(expr = \n",
    "                           sum(model.a[i,j]*subprob.x[col] for col,j in enumerate(sets[k]['indicies'])) <= model.b[i]\n",
    "                           )\n",
    "        constants = model.c[sets[k]['indicies']] - np.matmul(pi,np.array(model.eqmat[:,sets[k]['indicies']]))\n",
    "#         constants = model.c[sets[k]['indicies']] - np.dot(pi,model.a[sets[k]['constraint_rows'],sets[k]['indicies']])[0,0]\n",
    "        subprob.OBJ = Objective(expr = \n",
    "                               sum(constants[i]*subprob.x[i] for i in range(len(sets[k]['indicies']))) - mu[k]\n",
    "                               )\n",
    "        solver = SolverFactory('cplex')\n",
    "        results = solver.solve(subprob, tee = True)\n",
    "        subprob.solutions.load_from(results)\n",
    "        if subprob.OBJ() < -10**-10:\n",
    "            print(\"Does this print??\")\n",
    "            convergenceflag = 0\n",
    "            print(subprob.OBJ())\n",
    "            xval = []\n",
    "            for v in subprob.component_objects(Var, active=True):\n",
    "                for index in v:\n",
    "                    xval.append(v[index].value)\n",
    "            print(sets[k]['points'])\n",
    "            print(np.array(xval))\n",
    "            sets[k]['points'] = np.append(sets[k]['points'],[np.array(xval)],axis=0)\n",
    "            lambda_sets[np.int(A.shape[1])] = (k,len(sets[k]['points'])-1)\n",
    "            newc,newAcol = get_new_column_values(k,sets,xval,model.eqmat,model.eqb,model.c)\n",
    "            obj = np.append(obj,newc)\n",
    "            A = np.append(A,newAcol,axis=1)\n",
    "            \n",
    "    rmlp = ConcreteModel()\n",
    "    \n",
    "    num_lambda = range(A.shape[1])\n",
    "    print(A)\n",
    "    rmlp.n = num_lambda\n",
    "    rmlp.lambda_var = Var(rmlp.n,within=NonNegativeReals)\n",
    "    rmlp.con = ConstraintList()\n",
    "    for i in range(A.shape[0]):\n",
    "        rmlp.con.add(expr = sum( A[i,j]*rmlp.lambda_var[j] for j in rmlp.n ) == rhs[i])\n",
    "\n",
    "    rmlp.OBJ = Objective(expr = \n",
    "                        sum( obj[j]*rmlp.lambda_var[j] for j in rmlp.n ))\n",
    "\n",
    "    rmlp.dual = Suffix(direction=Suffix.IMPORT)\n",
    "    solver = SolverFactory('cplex',solver_io='nl')\n",
    "    solver.options['presolve'] = 0\n",
    "    solver.options['lpdisplay'] = 2\n",
    "    results = solver.solve(rmlp, tee = False)\n",
    "    rmlp.solutions.load_from(results)\n",
    "    \n",
    "for v in rmlp.component_objects(Var, active=True):\n",
    "    print(\"Variable component object\",v)\n",
    "    output = []\n",
    "    for index in v:\n",
    "        output.append(v[index].value)\n",
    "        print(\"   \", index, v[index].value)"
   ]
  },
  {
   "cell_type": "code",
   "execution_count": 687,
   "metadata": {},
   "outputs": [
    {
     "name": "stdout",
     "output_type": "stream",
     "text": [
      "Set: 0\n",
      "[0.  0.5 0.5]\n",
      "Set: 0\n",
      "[0.5 0.  0. ]\n",
      "Set: 1\n",
      "[0. 1. 0.]\n",
      "{0: array([0.5, 0.5, 0.5]), 1: array([0., 1., 0.])}\n"
     ]
    }
   ],
   "source": [
    "def get_solution_values(output,sets,lambda_sets):\n",
    "    solution = {}\n",
    "    for index,i in enumerate(output):\n",
    "        if i != 0:\n",
    "            if lambda_sets[index][0] in solution:\n",
    "                solution[lambda_sets[index][0]] += i*sets[lambda_sets[index][0]]['points'][lambda_sets[index][1]]\n",
    "                \n",
    "            else:\n",
    "                solution[lambda_sets[index][0]] = i*sets[lambda_sets[index][0]]['points'][lambda_sets[index][1]]\n",
    "            print(\"Set: {0}\".format(lambda_sets[index][0]))\n",
    "            print(i*sets[lambda_sets[index][0]]['points'][lambda_sets[index][1]])  \n",
    "    return solution\n",
    "solution = get_solution_values(output,sets,lambda_sets)\n",
    "print(solution)"
   ]
  },
  {
   "cell_type": "code",
   "execution_count": 196,
   "metadata": {},
   "outputs": [
    {
     "data": {
      "text/plain": [
       "3"
      ]
     },
     "execution_count": 196,
     "metadata": {},
     "output_type": "execute_result"
    }
   ],
   "source": [
    "sets[0]['lambda_indicies'][2]"
   ]
  },
  {
   "cell_type": "code",
   "execution_count": 650,
   "metadata": {},
   "outputs": [
    {
     "name": "stdout",
     "output_type": "stream",
     "text": [
      "CPLEX 12.8.0.0: presolve=0\n",
      "lpdisplay=2\n",
      "Using steepest-edge.\n",
      "('Variable component object', <pyomo.core.base.var.IndexedVar object at 0x000000000A66C160>)\n",
      "('   ', 0, 0.0)\n",
      "('   ', 1, 1.0)\n",
      "('   ', 2, 0.0)\n",
      "('   ', 3, 1.0)\n"
     ]
    }
   ],
   "source": [
    "rmlp = ConcreteModel()\n",
    "num_lambda = range(A.shape[1])\n",
    "rmlp.n = num_lambda\n",
    "rmlp.lambda_var = Var(rmlp.n,within=Binary)\n",
    "rmlp.con = ConstraintList()\n",
    "for i in range(A.shape[0]):\n",
    "    rmlp.con.add(expr = sum( A[i,j]*rmlp.lambda_var[j] for j in rmlp.n ) == rhs[i])\n",
    "\n",
    "rmlp.OBJ = Objective(expr = \n",
    "                    sum( obj[j]*rmlp.lambda_var[j] for j in rmlp.n ))\n",
    "\n",
    "rmlp.dual = Suffix(direction=Suffix.IMPORT)\n",
    "solver = SolverFactory('cplex',solver_io='nl')\n",
    "solver.options['presolve'] = 0\n",
    "solver.options['lpdisplay'] = 2\n",
    "results = solver.solve(rmlp, tee = True)\n",
    "rmlp.solutions.load_from(results)\n",
    "\n",
    "for v in rmlp.component_objects(Var, active=True):\n",
    "    print(\"Variable component object\",v)\n",
    "    for index in v:\n",
    "        print(\"   \", index, v[index].value)"
   ]
  },
  {
   "cell_type": "code",
   "execution_count": null,
   "metadata": {},
   "outputs": [],
   "source": []
  }
 ],
 "metadata": {
  "kernelspec": {
   "display_name": "Python 2",
   "language": "python",
   "name": "python2"
  },
  "language_info": {
   "codemirror_mode": {
    "name": "ipython",
    "version": 2
   },
   "file_extension": ".py",
   "mimetype": "text/x-python",
   "name": "python",
   "nbconvert_exporter": "python",
   "pygments_lexer": "ipython2",
   "version": "2.7.14"
  }
 },
 "nbformat": 4,
 "nbformat_minor": 2
}
