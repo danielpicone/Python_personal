{
 "cells": [
  {
   "cell_type": "code",
   "execution_count": 4,
   "metadata": {},
   "outputs": [],
   "source": [
    "from __future__ import division\n",
    "from pyomo.environ import *\n",
    "from pyomo.core.base.expr import identify_variables\n",
    "import numpy as np\n",
    "\n",
    "model = ConcreteModel()\n",
    "\n",
    "\n",
    "model.n = range(4)\n",
    "\n",
    "model.x = Var(model.n, within=Binary)\n",
    "\n",
    "model.c = np.array([1,2,2,1])\n",
    "# model.a1 = np.matrix([[-1,-1,0,0]])\n",
    "# model.a2 = np.matrix([[0,0,-1,-1]])\n",
    "model.a = np.matrix([[-1,-1,0,0],[0,0,-1,-1]])\n",
    "# model.b1 = np.array([-1])\n",
    "# model.b2 = np.array([-2])\n",
    "model.b = np.array([-1,-2])\n",
    "# model.set1 = range(len(model.b1))\n",
    "# model.set2 = range(len(model.b2))\n",
    "model.eqmat = np.matrix([1,1,1,1])\n",
    "model.eqb = np.array([3])\n",
    "model.set = range(len(model.b))\n",
    "consets = [[0],[1]]\n",
    "varsets = [[0,1],[2,3]]"
   ]
  },
  {
   "cell_type": "code",
   "execution_count": null,
   "metadata": {},
   "outputs": [],
   "source": [
    "model.OBJ = Objective(expr = summation(model.c,model.x))\n",
    "\n",
    "# model.eq = ConstraintList()\n",
    "# for i in model.m:\n",
    "#     model.eq.add(expr = sum(model.x[i,j] for j in model.n) == 1)\n",
    "    \n",
    "# model.ineq1 = ConstraintList()\n",
    "# for i in range(len(model.b1)):\n",
    "#     model.ineq1.add(expr = sum(model.a1[i,j]*model.x[j] for j in model.n) <= model.b1[i])\n",
    "# model.ineq2 = ConstraintList()\n",
    "# for i in range(len(model.b2)):\n",
    "#     model.ineq2.add(expr = sum(model.a2[i,j]*model.x[j] for j in model.n) <= model.b2[i])\n",
    "model.eq = ConstraintList()\n",
    "for i in range(len(model.eqb)):\n",
    "    print(i)\n",
    "    model.eq.add(expr = sum(model.eqmat[i,j]*model.x[j] for j in model.n) == model.eqb[i])\n",
    "model.ineq = ConstraintList()\n",
    "for i in model.set:\n",
    "    model.ineq.add(expr = sum(model.a[i,j]*model.x[j] for j in model.n) <= model.b[i])"
   ]
  },
  {
   "cell_type": "code",
   "execution_count": null,
   "metadata": {},
   "outputs": [],
   "source": [
    "model.dual = Suffix(direction=Suffix.IMPORT)\n",
    "solver = SolverFactory('cplex')\n",
    "results = solver.solve(model, tee = True)\n",
    "model.solutions.load_from(results)"
   ]
  },
  {
   "cell_type": "code",
   "execution_count": 201,
   "metadata": {},
   "outputs": [
    {
     "name": "stdout",
     "output_type": "stream",
     "text": [
      "[0, 1]\n",
      "WARNING: Constant objective detected, replacing with a placeholder to prevent solver failure.\n",
      "\n",
      "Welcome to IBM(R) ILOG(R) CPLEX(R) Interactive Optimizer 12.8.0.0\n",
      "  with Simplex, Mixed Integer & Barrier Optimizers\n",
      "5725-A06 5725-A29 5724-Y48 5724-Y49 5724-Y54 5724-Y55 5655-Y21\n",
      "Copyright IBM Corp. 1988, 2017.  All Rights Reserved.\n",
      "\n",
      "Type 'help' for a list of available commands.\n",
      "Type 'help' followed by a command name for more\n",
      "information on commands.\n",
      "\n",
      "CPLEX> Logfile 'cplex.log' closed.\n",
      "Logfile 'c:\\users\\daniel~1\\appdata\\local\\temp\\tmpgjvgel.cplex.log' open.\n",
      "CPLEX> Problem 'c:\\users\\daniel~1\\appdata\\local\\temp\\tmpfr2bt2.pyomo.lp' read.\n",
      "Read time = 0.00 sec. (0.00 ticks)\n",
      "CPLEX> Problem name         : c:\\users\\daniel~1\\appdata\\local\\temp\\tmpfr2bt2.pyomo.lp\n",
      "Objective sense      : Minimize\n",
      "Variables            :       3  [Nneg: 1,  Binary: 2]\n",
      "Objective nonzeros   :       0\n",
      "Linear constraints   :       2  [Less: 1,  Equal: 1]\n",
      "  Nonzeros           :       3\n",
      "  RHS nonzeros       :       2\n",
      "\n",
      "Variables            : Min LB: 0.0000000        Max UB: 1.000000       \n",
      "Objective nonzeros   : Min   : all zero         Max   : all zero       \n",
      "Linear constraints   :\n",
      "  Nonzeros           : Min   : 1.000000         Max   : 1.000000       \n",
      "  RHS nonzeros       : Min   : 1.000000         Max   : 1.000000       \n",
      "CPLEX> Found incumbent of value 0.000000 after 0.00 sec. (0.00 ticks)\n",
      "\n",
      "Root node processing (before b&c):\n",
      "  Real time             =    0.00 sec. (0.00 ticks)\n",
      "Parallel b&c, 4 threads:\n",
      "  Real time             =    0.00 sec. (0.00 ticks)\n",
      "  Sync time (average)   =    0.00 sec.\n",
      "  Wait time (average)   =    0.00 sec.\n",
      "                          ------------\n",
      "Total (root+branch&cut) =    0.00 sec. (0.00 ticks)\n",
      "\n",
      "Solution pool: 1 solution saved.\n",
      "\n",
      "MIP - Integer optimal solution:  Objective =  0.0000000000e+00\n",
      "Solution time =    0.00 sec.  Iterations = 0  Nodes = 0\n",
      "Deterministic time = 0.00 ticks  (3.12 ticks/sec)\n",
      "\n",
      "CPLEX> Incumbent solution written to file 'c:\\users\\daniel~1\\appdata\\local\\temp\\tmp5eyzjq.cplex.sol'.\n",
      "CPLEX> ('Variable component object', <pyomo.core.base.var.IndexedVar object at 0x000000000A1E1F98>)\n",
      "[2, 3]\n",
      "WARNING: Constant objective detected, replacing with a placeholder to prevent solver failure.\n",
      "\n",
      "Welcome to IBM(R) ILOG(R) CPLEX(R) Interactive Optimizer 12.8.0.0\n",
      "  with Simplex, Mixed Integer & Barrier Optimizers\n",
      "5725-A06 5725-A29 5724-Y48 5724-Y49 5724-Y54 5724-Y55 5655-Y21\n",
      "Copyright IBM Corp. 1988, 2017.  All Rights Reserved.\n",
      "\n",
      "Type 'help' for a list of available commands.\n",
      "Type 'help' followed by a command name for more\n",
      "information on commands.\n",
      "\n",
      "CPLEX> Logfile 'cplex.log' closed.\n",
      "Logfile 'c:\\users\\daniel~1\\appdata\\local\\temp\\tmptfkn3q.cplex.log' open.\n",
      "CPLEX> Problem 'c:\\users\\daniel~1\\appdata\\local\\temp\\tmpklo2ed.pyomo.lp' read.\n",
      "Read time = 0.00 sec. (0.00 ticks)\n",
      "CPLEX> Problem name         : c:\\users\\daniel~1\\appdata\\local\\temp\\tmpklo2ed.pyomo.lp\n",
      "Objective sense      : Minimize\n",
      "Variables            :       3  [Nneg: 1,  Binary: 2]\n",
      "Objective nonzeros   :       0\n",
      "Linear constraints   :       2  [Less: 1,  Equal: 1]\n",
      "  Nonzeros           :       3\n",
      "  RHS nonzeros       :       2\n",
      "\n",
      "Variables            : Min LB: 0.0000000        Max UB: 1.000000       \n",
      "Objective nonzeros   : Min   : all zero         Max   : all zero       \n",
      "Linear constraints   :\n",
      "  Nonzeros           : Min   : 1.000000         Max   : 1.000000       \n",
      "  RHS nonzeros       : Min   : 1.000000         Max   : 2.000000       \n",
      "CPLEX> Tried aggregator 1 time.\n",
      "MIP Presolve eliminated 2 rows and 3 columns.\n",
      "All rows and columns eliminated.\n",
      "Presolve time = 0.00 sec. (0.00 ticks)\n",
      "\n",
      "Root node processing (before b&c):\n",
      "  Real time             =    0.00 sec. (0.00 ticks)\n",
      "Parallel b&c, 4 threads:\n",
      "  Real time             =    0.00 sec. (0.00 ticks)\n",
      "  Sync time (average)   =    0.00 sec.\n",
      "  Wait time (average)   =    0.00 sec.\n",
      "                          ------------\n",
      "Total (root+branch&cut) =    0.00 sec. (0.00 ticks)\n",
      "\n",
      "Solution pool: 1 solution saved.\n",
      "\n",
      "MIP - Integer optimal solution:  Objective =  0.0000000000e+00\n",
      "Solution time =    0.00 sec.  Iterations = 0  Nodes = 0\n",
      "Deterministic time = 0.00 ticks  (4.42 ticks/sec)\n",
      "\n",
      "CPLEX> Incumbent solution written to file 'c:\\users\\daniel~1\\appdata\\local\\temp\\tmpfkfcuh.cplex.sol'.\n",
      "CPLEX> ('Variable component object', <pyomo.core.base.var.IndexedVar object at 0x000000000A3D3EF0>)\n",
      "1.0\n",
      "3.0\n"
     ]
    }
   ],
   "source": [
    "# Create the subproblems\n",
    "# First get a feasible point for each and value it\n",
    "variables_value = []\n",
    "for j in range(len(consets)):\n",
    "    print(varsets[j])\n",
    "    subprob = ConcreteModel()\n",
    "    subprob.x = Var(varsets[j],within=Binary)\n",
    "    subprob.con = ConstraintList()\n",
    "    for con in consets[j]:\n",
    "        subprob.con.add(expr = sum(model.a[j,i]*subprob.x[i] for i in varsets[j]) <= model.b[con])\n",
    "    subprob.OBJ = Objective(expr = 0)\n",
    "    subprob.dual = Suffix(direction=Suffix.IMPORT)\n",
    "    solver = SolverFactory('cplex')\n",
    "    results = solver.solve(subprob, tee = True)\n",
    "    subprob.solutions.load_from(results)\n",
    "    mini_list = []\n",
    "    for v in subprob.component_objects(Var, active=True):\n",
    "        print(\"Variable component object\",v)\n",
    "        for index in v:\n",
    "            variables_value.append(subprob.x[index].value)\n",
    "#     variables_value.append(mini_list)\n",
    "# Now value each feasible point\n",
    "val = []\n",
    "for j in range(len(consets)):\n",
    "    val.append(0)\n",
    "    for i in varsets[j]:\n",
    "        val[j] += model.c[i]*variables_value[i]\n",
    "    print(val[j])"
   ]
  },
  {
   "cell_type": "code",
   "execution_count": null,
   "metadata": {},
   "outputs": [],
   "source": [
    "val"
   ]
  },
  {
   "cell_type": "code",
   "execution_count": null,
   "metadata": {},
   "outputs": [],
   "source": [
    "# Now create the master problem\n",
    "master = ConcreteModel()\n",
    "master.lambda_var = Var(range(len(val)),within=NonNegativeReals)\n",
    "lambda_sets = [[0],[1]]\n",
    "master.eq = ConstraintList()\n",
    "for row in range(len(model.eqb)):\n",
    "    master.eq.add(expr = \n",
    "                 sum( sum( model.eqmat[row,j]*variables_value[j] for j in varsets[i] ) * master.lambda_var[i] for i in range(len(val))) == model.eqb[row]\n",
    "                 )\n",
    "master.convexity = ConstraintList()\n",
    "for i in range(len(consets)):\n",
    "    print(sum(master.lambda_var[j] for j in lambda_sets[i]))\n",
    "    master.convexity.add(expr = \n",
    "                        sum(master.lambda_var[j] for j in lambda_sets[i]) == 1\n",
    "                        )\n",
    "master.OBJ = Objective(expr = \n",
    "                      sum(val[j]*master.lambda_var[j] for j in range(len(val)))\n",
    "                      )\n",
    "\n",
    "master.dual = Suffix(direction=Suffix.IMPORT)\n",
    "solver = SolverFactory('cplex')\n",
    "results = solver.solve(master, tee = True)\n",
    "master.solutions.load_from(results)"
   ]
  },
  {
   "cell_type": "code",
   "execution_count": null,
   "metadata": {},
   "outputs": [],
   "source": [
    "for v in master.component_objects(Var, active=True):\n",
    "    print(\"Variable component object\",v)\n",
    "    for index in v:\n",
    "        print(\"   \", index, v[index].value)"
   ]
  },
  {
   "cell_type": "code",
   "execution_count": null,
   "metadata": {},
   "outputs": [],
   "source": [
    "print (\"Duals\")\n",
    "from pyomo.core import Constraint\n",
    "for c in model.component_objects(Constraint, active=True):\n",
    "    print (\"   Constraint\",c)\n",
    "    cobject = getattr(model, str(c))\n",
    "    print(cobject)\n",
    "    for index in cobject:\n",
    "        print(cobject[index])\n",
    "        print (\"      \", index, model.dual[cobject[index]])"
   ]
  },
  {
   "cell_type": "code",
   "execution_count": 202,
   "metadata": {},
   "outputs": [],
   "source": [
    "def projectBinary(x):\n",
    "    for row in range(len(x)):\n",
    "        if x[row] <= 0.5:\n",
    "            x[row] = 0\n",
    "        else:\n",
    "            x[row] = 1\n",
    "    return x\n",
    "\n",
    "def projectHyperplane(x,A,b):\n",
    "    for row in range(A.shape[0]):\n",
    "        if np.dot(A[row,:],x) - b[row] > 0:\n",
    "            x = x - ((( (np.dot(np.array(A[row,:]),x))[0] - b[row] )/ ((np.array(np.square(A).sum(axis=1))[row])[0]) ) * np.array(A[row,:].flatten())[0])\n",
    "    return x"
   ]
  },
  {
   "cell_type": "code",
   "execution_count": 204,
   "metadata": {},
   "outputs": [
    {
     "name": "stdout",
     "output_type": "stream",
     "text": [
      "<type 'numpy.ndarray'>\n",
      "[0. 1.]\n",
      "2\n"
     ]
    }
   ],
   "source": [
    "x = np.random.rand(2)\n",
    "# x = np.array([0.1,0.3])\n",
    "print(type(x))\n",
    "A = np.matrix([[-1,-1],[-2,-3]])\n",
    "b = np.array([-1,-2])\n",
    "for k in range(1000):\n",
    "    x = projectHyperplane(x,A,b)\n",
    "    x = projectBinary(x)\n",
    "    \n",
    "print(x)\n",
    "np.dot(A,x) <= b\n",
    "print(A.shape[1])"
   ]
  },
  {
   "cell_type": "code",
   "execution_count": 233,
   "metadata": {},
   "outputs": [],
   "source": [
    "def find_points(A,b):\n",
    "    \"\"\"Finds feasible points for a set of linear constraints\"\"\"\n",
    "    points = []\n",
    "    for i in range(100):\n",
    "        x = np.random.rand(A.shape[1])\n",
    "        x_old = x+1\n",
    "        while (np.linalg.norm(x-x_old) > 0.00001):\n",
    "            x_old = x\n",
    "            x = projectHyperplane(x,A,b)\n",
    "            x = projectBinary(x)\n",
    "        points.append(x)\n",
    "        \n",
    "    return np.unique(np.array(points),axis=0)"
   ]
  },
  {
   "cell_type": "code",
   "execution_count": 235,
   "metadata": {},
   "outputs": [
    {
     "name": "stdout",
     "output_type": "stream",
     "text": [
      "[[0. 1.]\n",
      " [1. 0.]\n",
      " [1. 1.]]\n"
     ]
    }
   ],
   "source": [
    "points = find_points(A,b)\n",
    "print(points)"
   ]
  },
  {
   "cell_type": "code",
   "execution_count": 254,
   "metadata": {},
   "outputs": [
    {
     "name": "stdout",
     "output_type": "stream",
     "text": [
      "[[-1 -1]]\n",
      "0\n",
      "[[0. 1.]\n",
      " [1. 0.]\n",
      " [1. 1.]]\n",
      "1\n",
      "[[1. 1.]]\n"
     ]
    }
   ],
   "source": [
    "# varsets\n",
    "# model.a\n",
    "print(model.a[consets[0],varsets[0]])\n",
    "for i in range(len(varsets)):\n",
    "    print(i)\n",
    "    print(find_points(model.a[consets[i],varsets[i]],model.b[consets[i]]))"
   ]
  }
 ],
 "metadata": {
  "kernelspec": {
   "display_name": "Python 2",
   "language": "python",
   "name": "python2"
  },
  "language_info": {
   "codemirror_mode": {
    "name": "ipython",
    "version": 2
   },
   "file_extension": ".py",
   "mimetype": "text/x-python",
   "name": "python",
   "nbconvert_exporter": "python",
   "pygments_lexer": "ipython2",
   "version": "2.7.14"
  }
 },
 "nbformat": 4,
 "nbformat_minor": 2
}
