{
 "cells": [
  {
   "cell_type": "code",
   "execution_count": 16,
   "metadata": {},
   "outputs": [],
   "source": [
    "import pandas as pd\n",
    "import numpy as np\n",
    "facility_df = pd.DataFrame()\n",
    "num_facility = 600\n",
    "depot_df = pd.DataFrame()\n",
    "num_depot = 200\n",
    "np.random.seed(100)"
   ]
  },
  {
   "cell_type": "code",
   "execution_count": 17,
   "metadata": {},
   "outputs": [],
   "source": [
    "# First we create the locations of each facility\n",
    "facility_df['xposition'] = 200*(np.random.rand(num_facility)-0.5)\n",
    "facility_df['yposition'] = 200*(np.random.rand(num_facility)-0.5)\n",
    "facility_df['demand'] = np.maximum(50*np.random.rand(num_facility),10)"
   ]
  },
  {
   "cell_type": "code",
   "execution_count": 18,
   "metadata": {},
   "outputs": [],
   "source": [
    "depot_df['xposition'] = 200*(np.random.rand(num_depot)-0.5)\n",
    "depot_df['yposition'] = 200*(np.random.rand(num_depot)-0.5)\n",
    "fixed_cost_list = []\n",
    "capacity_list = []\n",
    "for row,series in depot_df.iterrows():\n",
    "    fixed_cost_list.append(10000*np.exp(-((series.xposition/100)**2 + (series.yposition/100)**2)/0.5))\n",
    "    capacity_list.append(max(400*np.random.rand(),60))\n",
    "depot_df['fixed_cost'] = fixed_cost_list\n",
    "depot_df['capacity'] = capacity_list"
   ]
  },
  {
   "cell_type": "code",
   "execution_count": 19,
   "metadata": {},
   "outputs": [],
   "source": [
    "# Now we want to create a dataframe/matrix which stores the distances from depot i to client j\n",
    "distance_df = pd.DataFrame()\n",
    "distance_matrix = np.empty((num_depot,num_facility))\n",
    "for row,i in depot_df.iterrows():\n",
    "    for row1,j in facility_df.iterrows():\n",
    "        distance_matrix[row,row1] = np.sqrt(( (i.xposition - j.xposition)**2 + (i.yposition - j.yposition)**2 )) + np.random.randn()"
   ]
  },
  {
   "cell_type": "code",
   "execution_count": 20,
   "metadata": {},
   "outputs": [],
   "source": [
    "distance_df = pd.DataFrame(distance_matrix)\n",
    "depot_df.to_csv('depot_info.csv',index=False)\n",
    "facility_df.to_csv('facility_position.csv',index=False)\n",
    "distance_df.to_csv('cost_matrix.csv',index=False)"
   ]
  },
  {
   "cell_type": "code",
   "execution_count": null,
   "metadata": {},
   "outputs": [],
   "source": []
  }
 ],
 "metadata": {
  "kernelspec": {
   "display_name": "Python 2",
   "language": "python",
   "name": "python2"
  },
  "language_info": {
   "codemirror_mode": {
    "name": "ipython",
    "version": 2
   },
   "file_extension": ".py",
   "mimetype": "text/x-python",
   "name": "python",
   "nbconvert_exporter": "python",
   "pygments_lexer": "ipython2",
   "version": "2.7.14"
  }
 },
 "nbformat": 4,
 "nbformat_minor": 2
}
